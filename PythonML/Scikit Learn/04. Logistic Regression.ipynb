{
 "cells": [
  {
   "cell_type": "markdown",
   "id": "ee4c8cce",
   "metadata": {},
   "source": [
    "# 4.Logistic Regression"
   ]
  },
  {
   "cell_type": "markdown",
   "id": "d86320af",
   "metadata": {},
   "source": [
    "### 공부 시간에 따른 자격증 시험 합격 가능성"
   ]
  },
  {
   "cell_type": "code",
   "execution_count": 4,
   "id": "79e3ce2b",
   "metadata": {},
   "outputs": [],
   "source": [
    "import numpy as np\n",
    "import matplotlib.pyplot as plt\n",
    "import pandas as pd"
   ]
  },
  {
   "cell_type": "code",
   "execution_count": 7,
   "id": "17a1c89f",
   "metadata": {},
   "outputs": [],
   "source": [
    "dataset = pd.read_csv('LogisticRegressionData.csv')\n",
    "X = dataset.iloc[:,:-1].values\n",
    "y = dataset.iloc[:,-1].values"
   ]
  },
  {
   "cell_type": "code",
   "execution_count": 8,
   "id": "3ac6ba9d",
   "metadata": {},
   "outputs": [],
   "source": [
    "from sklearn.model_selection import train_test_split\n",
    "X_train, X_test , y_train,y_test = train_test_split(X,y,test_size=0.2, random_state =0)"
   ]
  },
  {
   "cell_type": "code",
   "execution_count": 9,
   "id": "6b7dc783",
   "metadata": {},
   "outputs": [
    {
     "data": {
      "text/html": [
       "<style>#sk-container-id-1 {color: black;}#sk-container-id-1 pre{padding: 0;}#sk-container-id-1 div.sk-toggleable {background-color: white;}#sk-container-id-1 label.sk-toggleable__label {cursor: pointer;display: block;width: 100%;margin-bottom: 0;padding: 0.3em;box-sizing: border-box;text-align: center;}#sk-container-id-1 label.sk-toggleable__label-arrow:before {content: \"▸\";float: left;margin-right: 0.25em;color: #696969;}#sk-container-id-1 label.sk-toggleable__label-arrow:hover:before {color: black;}#sk-container-id-1 div.sk-estimator:hover label.sk-toggleable__label-arrow:before {color: black;}#sk-container-id-1 div.sk-toggleable__content {max-height: 0;max-width: 0;overflow: hidden;text-align: left;background-color: #f0f8ff;}#sk-container-id-1 div.sk-toggleable__content pre {margin: 0.2em;color: black;border-radius: 0.25em;background-color: #f0f8ff;}#sk-container-id-1 input.sk-toggleable__control:checked~div.sk-toggleable__content {max-height: 200px;max-width: 100%;overflow: auto;}#sk-container-id-1 input.sk-toggleable__control:checked~label.sk-toggleable__label-arrow:before {content: \"▾\";}#sk-container-id-1 div.sk-estimator input.sk-toggleable__control:checked~label.sk-toggleable__label {background-color: #d4ebff;}#sk-container-id-1 div.sk-label input.sk-toggleable__control:checked~label.sk-toggleable__label {background-color: #d4ebff;}#sk-container-id-1 input.sk-hidden--visually {border: 0;clip: rect(1px 1px 1px 1px);clip: rect(1px, 1px, 1px, 1px);height: 1px;margin: -1px;overflow: hidden;padding: 0;position: absolute;width: 1px;}#sk-container-id-1 div.sk-estimator {font-family: monospace;background-color: #f0f8ff;border: 1px dotted black;border-radius: 0.25em;box-sizing: border-box;margin-bottom: 0.5em;}#sk-container-id-1 div.sk-estimator:hover {background-color: #d4ebff;}#sk-container-id-1 div.sk-parallel-item::after {content: \"\";width: 100%;border-bottom: 1px solid gray;flex-grow: 1;}#sk-container-id-1 div.sk-label:hover label.sk-toggleable__label {background-color: #d4ebff;}#sk-container-id-1 div.sk-serial::before {content: \"\";position: absolute;border-left: 1px solid gray;box-sizing: border-box;top: 0;bottom: 0;left: 50%;z-index: 0;}#sk-container-id-1 div.sk-serial {display: flex;flex-direction: column;align-items: center;background-color: white;padding-right: 0.2em;padding-left: 0.2em;position: relative;}#sk-container-id-1 div.sk-item {position: relative;z-index: 1;}#sk-container-id-1 div.sk-parallel {display: flex;align-items: stretch;justify-content: center;background-color: white;position: relative;}#sk-container-id-1 div.sk-item::before, #sk-container-id-1 div.sk-parallel-item::before {content: \"\";position: absolute;border-left: 1px solid gray;box-sizing: border-box;top: 0;bottom: 0;left: 50%;z-index: -1;}#sk-container-id-1 div.sk-parallel-item {display: flex;flex-direction: column;z-index: 1;position: relative;background-color: white;}#sk-container-id-1 div.sk-parallel-item:first-child::after {align-self: flex-end;width: 50%;}#sk-container-id-1 div.sk-parallel-item:last-child::after {align-self: flex-start;width: 50%;}#sk-container-id-1 div.sk-parallel-item:only-child::after {width: 0;}#sk-container-id-1 div.sk-dashed-wrapped {border: 1px dashed gray;margin: 0 0.4em 0.5em 0.4em;box-sizing: border-box;padding-bottom: 0.4em;background-color: white;}#sk-container-id-1 div.sk-label label {font-family: monospace;font-weight: bold;display: inline-block;line-height: 1.2em;}#sk-container-id-1 div.sk-label-container {text-align: center;}#sk-container-id-1 div.sk-container {/* jupyter's `normalize.less` sets `[hidden] { display: none; }` but bootstrap.min.css set `[hidden] { display: none !important; }` so we also need the `!important` here to be able to override the default hidden behavior on the sphinx rendered scikit-learn.org. See: https://github.com/scikit-learn/scikit-learn/issues/21755 */display: inline-block !important;position: relative;}#sk-container-id-1 div.sk-text-repr-fallback {display: none;}</style><div id=\"sk-container-id-1\" class=\"sk-top-container\"><div class=\"sk-text-repr-fallback\"><pre>LogisticRegression()</pre><b>In a Jupyter environment, please rerun this cell to show the HTML representation or trust the notebook. <br />On GitHub, the HTML representation is unable to render, please try loading this page with nbviewer.org.</b></div><div class=\"sk-container\" hidden><div class=\"sk-item\"><div class=\"sk-estimator sk-toggleable\"><input class=\"sk-toggleable__control sk-hidden--visually\" id=\"sk-estimator-id-1\" type=\"checkbox\" checked><label for=\"sk-estimator-id-1\" class=\"sk-toggleable__label sk-toggleable__label-arrow\">LogisticRegression</label><div class=\"sk-toggleable__content\"><pre>LogisticRegression()</pre></div></div></div></div></div>"
      ],
      "text/plain": [
       "LogisticRegression()"
      ]
     },
     "execution_count": 9,
     "metadata": {},
     "output_type": "execute_result"
    }
   ],
   "source": [
    "from sklearn.linear_model import LogisticRegression\n",
    "classifier = LogisticRegression()\n",
    "classifier.fit(X_train,y_train)"
   ]
  },
  {
   "cell_type": "markdown",
   "id": "395a1c8f",
   "metadata": {},
   "source": [
    "### 6시간 공부했을 때 예측?"
   ]
  },
  {
   "cell_type": "code",
   "execution_count": 11,
   "id": "1beabf4d",
   "metadata": {},
   "outputs": [
    {
     "data": {
      "text/plain": [
       "array([1], dtype=int64)"
      ]
     },
     "execution_count": 11,
     "metadata": {},
     "output_type": "execute_result"
    }
   ],
   "source": [
    "classifier.predict([[6]])\n",
    "# 결과 1 : 합격할 것으로 예측\n"
   ]
  },
  {
   "cell_type": "code",
   "execution_count": 14,
   "id": "7e004b54",
   "metadata": {},
   "outputs": [
    {
     "data": {
      "text/plain": [
       "array([[0.14150735, 0.85849265]])"
      ]
     },
     "execution_count": 14,
     "metadata": {},
     "output_type": "execute_result"
    }
   ],
   "source": [
    "classifier.predict_proba([[6]]) # 합격할 확률 출력\n",
    "# 불합격 확률 14% 합격확률 86%"
   ]
  },
  {
   "cell_type": "markdown",
   "id": "7c5d40d1",
   "metadata": {},
   "source": [
    "### 4시간 공부했을 때 예측?"
   ]
  },
  {
   "cell_type": "code",
   "execution_count": 12,
   "id": "7e62739a",
   "metadata": {},
   "outputs": [
    {
     "data": {
      "text/plain": [
       "array([0], dtype=int64)"
      ]
     },
     "execution_count": 12,
     "metadata": {},
     "output_type": "execute_result"
    }
   ],
   "source": [
    "classifier.predict([[4]])\n",
    "# 결과 0 : 불합격할 것으로 예측"
   ]
  },
  {
   "cell_type": "code",
   "execution_count": 15,
   "id": "0d9bebf1",
   "metadata": {},
   "outputs": [
    {
     "data": {
      "text/plain": [
       "array([[0.6249966, 0.3750034]])"
      ]
     },
     "execution_count": 15,
     "metadata": {},
     "output_type": "execute_result"
    }
   ],
   "source": [
    "classifier.predict_proba([[4]])\n",
    "# 불합격 확률 62% 합격 확률 38%"
   ]
  },
  {
   "cell_type": "markdown",
   "id": "bf119db3",
   "metadata": {},
   "source": [
    "### 분류 결과 예측(테스트 세트)"
   ]
  },
  {
   "cell_type": "code",
   "execution_count": 17,
   "id": "c47f7e82",
   "metadata": {},
   "outputs": [
    {
     "data": {
      "text/plain": [
       "array([1, 0, 1, 1], dtype=int64)"
      ]
     },
     "execution_count": 17,
     "metadata": {},
     "output_type": "execute_result"
    }
   ],
   "source": [
    "y_pred = classifier.predict(X_test)\n",
    "y_pred"
   ]
  },
  {
   "cell_type": "code",
   "execution_count": 18,
   "id": "b95da149",
   "metadata": {},
   "outputs": [
    {
     "data": {
      "text/plain": [
       "array([1, 0, 1, 0], dtype=int64)"
      ]
     },
     "execution_count": 18,
     "metadata": {},
     "output_type": "execute_result"
    }
   ],
   "source": [
    "y_test # 실제 값 (테스트 세트)"
   ]
  },
  {
   "cell_type": "code",
   "execution_count": 20,
   "id": "1361ea60",
   "metadata": {},
   "outputs": [
    {
     "data": {
      "text/plain": [
       "array([[ 8.6],\n",
       "       [ 1.2],\n",
       "       [10. ],\n",
       "       [ 4.5]])"
      ]
     },
     "execution_count": 20,
     "metadata": {},
     "output_type": "execute_result"
    }
   ],
   "source": [
    "X_test # 공부 시간(테스트 세트)"
   ]
  },
  {
   "cell_type": "code",
   "execution_count": 21,
   "id": "13a699af",
   "metadata": {},
   "outputs": [
    {
     "data": {
      "text/plain": [
       "0.75"
      ]
     },
     "execution_count": 21,
     "metadata": {},
     "output_type": "execute_result"
    }
   ],
   "source": [
    "classifier.score(X_test,y_test) # 모델 평가\n",
    "# 전체 테스트 세트 4개 중에서 분류 예측을 올바로 맞힌 개수 "
   ]
  },
  {
   "cell_type": "markdown",
   "id": "ff5c5311",
   "metadata": {},
   "source": [
    "### 데이터 시각화(훈련 세트)"
   ]
  },
  {
   "cell_type": "code",
   "execution_count": 23,
   "id": "5853b1a2",
   "metadata": {},
   "outputs": [
    {
     "data": {
      "text/plain": [
       "array([0.5, 0.6, 0.7, 0.8, 0.9, 1. , 1.1, 1.2, 1.3, 1.4, 1.5, 1.6, 1.7,\n",
       "       1.8, 1.9, 2. , 2.1, 2.2, 2.3, 2.4, 2.5, 2.6, 2.7, 2.8, 2.9, 3. ,\n",
       "       3.1, 3.2, 3.3, 3.4, 3.5, 3.6, 3.7, 3.8, 3.9, 4. , 4.1, 4.2, 4.3,\n",
       "       4.4, 4.5, 4.6, 4.7, 4.8, 4.9, 5. , 5.1, 5.2, 5.3, 5.4, 5.5, 5.6,\n",
       "       5.7, 5.8, 5.9, 6. , 6.1, 6.2, 6.3, 6.4, 6.5, 6.6, 6.7, 6.8, 6.9,\n",
       "       7. , 7.1, 7.2, 7.3, 7.4, 7.5, 7.6, 7.7, 7.8, 7.9, 8. , 8.1, 8.2,\n",
       "       8.3, 8.4, 8.5, 8.6, 8.7, 8.8, 8.9, 9. , 9.1, 9.2, 9.3, 9.4, 9.5,\n",
       "       9.6, 9.7, 9.8, 9.9])"
      ]
     },
     "execution_count": 23,
     "metadata": {},
     "output_type": "execute_result"
    }
   ],
   "source": [
    "X_range = np.arange(min(X), max(X),0.1) # X의 최소값에서 최대값까지를 0.1 단위로 잘라서 데이터 생성\n",
    "X_range"
   ]
  },
  {
   "cell_type": "code",
   "execution_count": 27,
   "id": "1a6ce8e0",
   "metadata": {},
   "outputs": [
    {
     "data": {
      "text/plain": [
       "array([[0.98964295, 0.98838753, 0.98698193, 0.9854087 , 0.98364851,\n",
       "        0.98167992, 0.97947927, 0.97702047, 0.97427479, 0.97121071,\n",
       "        0.96779374, 0.96398625, 0.95974736, 0.95503281, 0.94979495,\n",
       "        0.94398278, 0.93754198, 0.93041521, 0.92254243, 0.91386139,\n",
       "        0.90430835, 0.89381894, 0.88232933, 0.86977759, 0.85610532,\n",
       "        0.84125957, 0.82519491, 0.80787578, 0.7892789 , 0.76939575,\n",
       "        0.74823491, 0.72582426, 0.70221268, 0.67747126, 0.65169384,\n",
       "        0.6249966 , 0.59751685, 0.56941073, 0.54085011, 0.51201858,\n",
       "        0.48310686, 0.45430779, 0.42581124, 0.39779912, 0.3704409 ,\n",
       "        0.34388976, 0.31827956, 0.29372278, 0.27030941, 0.24810676,\n",
       "        0.22716006, 0.20749379, 0.18911348, 0.17200797, 0.15615172,\n",
       "        0.14150735, 0.128028  , 0.11565964, 0.10434317, 0.09401623,\n",
       "        0.08461479, 0.07607454, 0.06833192, 0.06132501, 0.0549942 ,\n",
       "        0.04928262, 0.04413654, 0.03950547, 0.03534236, 0.03160353,\n",
       "        0.02824864, 0.02524061, 0.02254545, 0.02013214, 0.0179724 ,\n",
       "        0.01604056, 0.01431335, 0.0127697 , 0.01139061, 0.01015893,\n",
       "        0.0090592 , 0.00807756, 0.00720151, 0.00641986, 0.00572255,\n",
       "        0.0051006 , 0.00454594, 0.00405135, 0.00361037, 0.00321724,\n",
       "        0.00286679, 0.00255442, 0.002276  , 0.00202787, 0.00180675]])"
      ]
     },
     "execution_count": 27,
     "metadata": {},
     "output_type": "execute_result"
    }
   ],
   "source": [
    "p = 1 / (1+np.exp(classifier.coef_*X_range + classifier.intercept_)) # y = mx + b\n",
    "p"
   ]
  },
  {
   "cell_type": "code",
   "execution_count": 28,
   "id": "428d92bb",
   "metadata": {},
   "outputs": [
    {
     "data": {
      "text/plain": [
       "(1, 95)"
      ]
     },
     "execution_count": 28,
     "metadata": {},
     "output_type": "execute_result"
    }
   ],
   "source": [
    "p.shape\n"
   ]
  },
  {
   "cell_type": "code",
   "execution_count": 29,
   "id": "2d06f242",
   "metadata": {},
   "outputs": [
    {
     "data": {
      "text/plain": [
       "(95,)"
      ]
     },
     "execution_count": 29,
     "metadata": {},
     "output_type": "execute_result"
    }
   ],
   "source": [
    "X_range.shape"
   ]
  },
  {
   "cell_type": "code",
   "execution_count": 30,
   "id": "b8463506",
   "metadata": {},
   "outputs": [
    {
     "data": {
      "text/plain": [
       "(95,)"
      ]
     },
     "execution_count": 30,
     "metadata": {},
     "output_type": "execute_result"
    }
   ],
   "source": [
    "p = p.reshape(-1) # 1차원 배열 형태로 변경\n",
    "p.shape"
   ]
  },
  {
   "cell_type": "code",
   "execution_count": 32,
   "id": "3e7ce6ad",
   "metadata": {},
   "outputs": [
    {
     "data": {
      "image/png": "[encoded data removed]",
      "text/plain": [
       "<Figure size 432x288 with 1 Axes>"
      ]
     },
     "metadata": {
      "needs_background": "light"
     },
     "output_type": "display_data"
    }
   ],
   "source": [
    "plt.scatter(X_train,y_train, color= 'blue')\n",
    "plt.plot(X_range, p, color = 'green')\n",
    "plt.plot(X_range, np.full(len(X_range),0.5), color = 'red') # X_range 개수만큼 0.5로 가득찬 배열 만들기\n",
    "plt.title('Probability by hours')\n",
    "plt.xlabel('hours')\n",
    "plt.ylabel('P')\n",
    "plt.show()"
   ]
  },
  {
   "cell_type": "markdown",
   "id": "2165856b",
   "metadata": {},
   "source": [
    "### 데이터 시각화(테스트 세트)"
   ]
  },
  {
   "cell_type": "code",
   "execution_count": 33,
   "id": "d36d93d8",
   "metadata": {},
   "outputs": [
    {
     "data": {
      "image/png": "[encoded data removed]",
      "text/plain": [
       "<Figure size 432x288 with 1 Axes>"
      ]
     },
     "metadata": {
      "needs_background": "light"
     },
     "output_type": "display_data"
    }
   ],
   "source": [
    "plt.scatter(X_test,y_test, color= 'blue')\n",
    "plt.plot(X_range, p, color = 'green')\n",
    "plt.plot(X_range, np.full(len(X_range),0.5), color = 'red') # X_range 개수만큼 0.5로 가득찬 배열 만들기\n",
    "plt.title('Probability by hours(test)')\n",
    "plt.xlabel('hours')\n",
    "plt.ylabel('P')\n",
    "plt.show()"
   ]
  },
  {
   "cell_type": "code",
   "execution_count": 37,
   "id": "f3a6e6e6",
   "metadata": {},
   "outputs": [
    {
     "data": {
      "text/plain": [
       "array([[0.48310686, 0.51689314]])"
      ]
     },
     "execution_count": 37,
     "metadata": {},
     "output_type": "execute_result"
    }
   ],
   "source": [
    "classifier.predict_proba([[4.5]]) # 4.5 시간 공부했을 때 확률( 모델에서는 합격 예측, 실제로는 불합격)"
   ]
  },
  {
   "cell_type": "markdown",
   "id": "5c5bc6e4",
   "metadata": {},
   "source": [
    "### 혼돈 행렬(Confusion Matrix)"
   ]
  },
  {
   "cell_type": "code",
   "execution_count": 40,
   "id": "ded60a77",
   "metadata": {},
   "outputs": [
    {
     "data": {
      "text/plain": [
       "array([[1, 1],\n",
       "       [0, 2]], dtype=int64)"
      ]
     },
     "execution_count": 40,
     "metadata": {},
     "output_type": "execute_result"
    }
   ],
   "source": [
    "from sklearn.metrics import confusion_matrix\n",
    "cm = confusion_matrix(y_test,y_pred)\n",
    "cm\n",
    "\n",
    "# TRUE NEGATIBE (TN)        FALSE POSITIVE(FP)\n",
    "# 불합격일거야(예측)       합격일거야 (예측)\n",
    "# 불합격(실제)               불합격(실제)\n",
    "# FALSE NEGATIVE(FN)        TRUE POSITIVE(TP)\n",
    "# 불합격일거야(예측)       합격일거야 (예측)\n",
    "# 합격(실제)               합격(실제)\n"
   ]
  },
  {
   "cell_type": "code",
   "execution_count": null,
   "id": "2670de94",
   "metadata": {},
   "outputs": [],
   "source": []
  },
  {
   "cell_type": "code",
   "execution_count": null,
   "id": "21312a18",
   "metadata": {},
   "outputs": [],
   "source": []
  },
  {
   "cell_type": "code",
   "execution_count": null,
   "id": "c5224f33",
   "metadata": {},
   "outputs": [],
   "source": []
  }
 ],
 "metadata": {
  "kernelspec": {
   "display_name": "Python 3",
   "language": "python",
   "name": "python3"
  },
  "language_info": {
   "codemirror_mode": {
    "name": "ipython",
    "version": 3
   },
   "file_extension": ".py",
   "mimetype": "text/x-python",
   "name": "python",
   "nbconvert_exporter": "python",
   "pygments_lexer": "ipython3",
   "version": "3.8.8"
  }
 },
 "nbformat": 4,
 "nbformat_minor": 5
}
